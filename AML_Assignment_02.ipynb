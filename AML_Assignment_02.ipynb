{
  "nbformat": 4,
  "nbformat_minor": 0,
  "metadata": {
    "colab": {
      "provenance": []
    },
    "kernelspec": {
      "name": "python3",
      "display_name": "Python 3"
    },
    "language_info": {
      "name": "python"
    }
  },
  "cells": [
    {
      "cell_type": "code",
      "execution_count": 1,
      "metadata": {
        "colab": {
          "base_uri": "https://localhost:8080/"
        },
        "id": "va9bqadgRNyc",
        "outputId": "91b09b98-0395-45ae-bb2f-3a5098584a36"
      },
      "outputs": [
        {
          "output_type": "stream",
          "name": "stdout",
          "text": [
            "X_train:\n",
            "[[1 2]\n",
            " [3 4]\n",
            " [5 6]\n",
            " [7 8]]\n",
            "\n",
            "y_train:\n",
            "[0 1 1 0]\n",
            "\n",
            "X_test:\n",
            "[[ 9 10]\n",
            " [11 12]]\n",
            "\n",
            "y_test:\n",
            "[1 0]\n"
          ]
        }
      ],
      "source": [
        "import numpy as np\n",
        "\n",
        "def my_train_test_split(X, y, train_fraction):\n",
        "    # Calculate the number of samples for the training set\n",
        "    split = int(train_fraction * X.shape[0])\n",
        "\n",
        "    # Split the data into training and testing sets\n",
        "    X_train = X[:split]\n",
        "    y_train = y[:split]\n",
        "    X_test = X[split:]\n",
        "    y_test = y[split:]\n",
        "\n",
        "    # Return the splits as a tuple\n",
        "    return (X_train, y_train, X_test, y_test)\n",
        "\n",
        "# Sample data\n",
        "data = np.array([[1, 2, 0], [3, 4, 1], [5, 6, 1], [7, 8, 0], [9, 10, 1], [11, 12, 0]])\n",
        "\n",
        "# Split the data using my_train_test_split\n",
        "X_train, y_train, X_test, y_test = my_train_test_split(data[:, :-1], data[:, -1], train_fraction=0.8)\n",
        "\n",
        "# Print the results\n",
        "print('X_train:')\n",
        "print(X_train)\n",
        "print('\\ny_train:')\n",
        "print(y_train)\n",
        "print('\\nX_test:')\n",
        "print(X_test)\n",
        "print('\\ny_test:')\n",
        "print(y_test)\n"
      ]
    },
    {
      "cell_type": "code",
      "source": [
        "import numpy as np\n",
        "\n",
        "data = np.array([[1, 2, 0], [3, 4, 1], [5, 6, 1], [7, 8, 0]])\n",
        "num_samples = data.shape[0]\n",
        "\n",
        "# Shuffle the indices randomly\n",
        "indices = np.random.choice(num_samples, num_samples, replace=False)\n",
        "\n",
        "# Define the split fraction\n",
        "split_fraction = 0.8\n",
        "split = int(split_fraction * num_samples)\n",
        "\n",
        "# Select the first 'split' shuffled indices for training\n",
        "train_indices = indices[:split]\n",
        "\n",
        "# Use the selected indices to split the data\n",
        "X_train = data[train_indices, :-1]\n",
        "y_train = data[train_indices, -1]\n",
        "\n",
        "# The rest of the indices are for testing\n",
        "test_indices = indices[split:]\n",
        "\n",
        "X_test = data[test_indices, :-1]\n",
        "y_test = data[test_indices, -1]\n",
        "\n",
        "print('X_train:')\n",
        "print(X_train)\n",
        "print('\\ny_train:')\n",
        "print(y_train)\n",
        "print('\\nX_test:')\n",
        "print(X_test)\n",
        "print('\\ny_test:')\n",
        "print(y_test)\n"
      ],
      "metadata": {
        "colab": {
          "base_uri": "https://localhost:8080/"
        },
        "id": "tIqfk0JQRnjv",
        "outputId": "f64a266e-a34d-405c-8523-388895bb901c"
      },
      "execution_count": null,
      "outputs": [
        {
          "output_type": "stream",
          "name": "stdout",
          "text": [
            "X_train:\n",
            "[[1 2]\n",
            " [3 4]\n",
            " [5 6]]\n",
            "\n",
            "y_train:\n",
            "[0 1 1]\n",
            "\n",
            "X_test:\n",
            "[[7 8]]\n",
            "\n",
            "y_test:\n",
            "[0]\n"
          ]
        }
      ]
    },
    {
      "cell_type": "code",
      "source": [
        "import numpy as np\n",
        "\n",
        "def my_random_train_test_split(X, y, train_fraction):\n",
        "    num_samples = X.shape[0]\n",
        "\n",
        "    # Shuffle the indices randomly\n",
        "    indices = np.random.choice(num_samples, num_samples, replace=False)\n",
        "\n",
        "    # Calculate the split index\n",
        "    split = int(train_fraction * num_samples)\n",
        "\n",
        "    # Select the first 'split' shuffled indices for training\n",
        "    train_indices = indices[:split]\n",
        "\n",
        "    # Use the selected indices to split the data\n",
        "    X_train = X[train_indices]\n",
        "    y_train = y[train_indices]\n",
        "\n",
        "    # The rest of the indices are for testing\n",
        "    test_indices = indices[split:]\n",
        "\n",
        "    X_test = X[test_indices]\n",
        "    y_test = y[test_indices]\n",
        "\n",
        "    return (X_train, y_train, X_test, y_test)\n"
      ],
      "metadata": {
        "id": "-pL4c-9nSdPV"
      },
      "execution_count": null,
      "outputs": []
    },
    {
      "cell_type": "code",
      "source": [
        "# Sample data\n",
        "data = np.array([[1, 2, 0], [3, 4, 1], [5, 6, 1], [7, 8, 0]])\n",
        "\n",
        "# Split the data using my_random_train_test_split\n",
        "X_train, y_train, X_test, y_test = my_random_train_test_split(data[:, :-1], data[:, -1], train_fraction=0.8)\n",
        "\n",
        "# Print the results\n",
        "print('X_train:')\n",
        "print(X_train)\n",
        "print('\\ny_train:')\n",
        "print(y_train)\n",
        "print('\\nX_test:')\n",
        "print(X_test)\n",
        "print('\\ny_test:')\n",
        "print(y_test)\n"
      ],
      "metadata": {
        "colab": {
          "base_uri": "https://localhost:8080/"
        },
        "id": "PSiWqqloSg0u",
        "outputId": "02b34de4-d116-4252-d567-38c9f97c07fa"
      },
      "execution_count": null,
      "outputs": [
        {
          "output_type": "stream",
          "name": "stdout",
          "text": [
            "X_train:\n",
            "[[5 6]\n",
            " [3 4]\n",
            " [7 8]]\n",
            "\n",
            "y_train:\n",
            "[1 1 0]\n",
            "\n",
            "X_test:\n",
            "[[1 2]]\n",
            "\n",
            "y_test:\n",
            "[0]\n"
          ]
        }
      ]
    },
    {
      "cell_type": "code",
      "source": [
        "import numpy as np\n",
        "\n",
        "# Define the function my_random_train_test_split\n",
        "def my_random_train_test_split(X, y, train_fraction):\n",
        "    num_samples = X.shape[0]\n",
        "\n",
        "    # Shuffle the indices randomly\n",
        "    indices = np.random.choice(num_samples, num_samples, replace=False)\n",
        "\n",
        "    # Calculate the split index\n",
        "    split = int(train_fraction * num_samples)\n",
        "\n",
        "    # Select the first 'split' shuffled indices for training\n",
        "    train_indices = indices[:split]\n",
        "\n",
        "    # Use the selected indices to split the data\n",
        "    X_train = X[train_indices]\n",
        "    y_train = y[train_indices]\n",
        "\n",
        "    # The rest of the indices are for testing\n",
        "    test_indices = indices[split:]\n",
        "\n",
        "    X_test = X[test_indices]\n",
        "    y_test = y[test_indices]\n",
        "\n",
        "    return (X_train, y_train, X_test, y_test)\n",
        "\n",
        "# Sample data\n",
        "data = np.array([[1, 2, 0], [3, 4, 1], [5, 6, 1], [7, 8, 0]])\n",
        "\n",
        "# Split the data using my_random_train_test_split\n",
        "X_train, y_train, X_test, y_test = my_random_train_test_split(data[:, :-1], data[:, -1], train_fraction=0.8)\n",
        "\n",
        "# Print the results\n",
        "print('X_train:')\n",
        "print(X_train)\n",
        "print('\\ny_train:')\n",
        "print(y_train)\n",
        "print('\\nX_test:')\n",
        "print(X_test)\n",
        "print('\\ny_test:')\n",
        "print(y_test)\n"
      ],
      "metadata": {
        "colab": {
          "base_uri": "https://localhost:8080/"
        },
        "id": "tHP6yVzDSnsF",
        "outputId": "778cfa8d-acc7-450b-bb90-40e3bb4a84d1"
      },
      "execution_count": null,
      "outputs": [
        {
          "output_type": "stream",
          "name": "stdout",
          "text": [
            "X_train:\n",
            "[[5 6]\n",
            " [3 4]\n",
            " [1 2]]\n",
            "\n",
            "y_train:\n",
            "[1 1 0]\n",
            "\n",
            "X_test:\n",
            "[[7 8]]\n",
            "\n",
            "y_test:\n",
            "[0]\n"
          ]
        }
      ]
    },
    {
      "cell_type": "code",
      "source": [
        "import numpy as np\n",
        "\n",
        "class KNN:\n",
        "    def __init__(self, n_neighbors=5, weights='uniform'):\n",
        "        self.n_neighbors = n_neighbors\n",
        "        self.weights = weights\n",
        "        self.X_train = None\n",
        "        self.y_train = None\n",
        "\n",
        "    def fit(self, X, y):\n",
        "        self.X_train = X\n",
        "        self.y_train = y\n",
        "\n",
        "    def predict(self, X):\n",
        "        y_pred = np.zeros(X.shape[0])\n",
        "\n",
        "        for i, x in enumerate(X):\n",
        "            # Calculate distances between the current sample and all training samples\n",
        "            distances = np.linalg.norm(self.X_train - x, axis=1)\n",
        "\n",
        "            # Get indices of the k-nearest neighbors\n",
        "            k_indices = np.argsort(distances)[:self.n_neighbors]\n",
        "\n",
        "            if self.weights == 'uniform':\n",
        "                # Use uniform weighting\n",
        "                neighbor_labels = self.y_train[k_indices]\n",
        "                labels, counts = np.unique(neighbor_labels, return_counts=True)\n",
        "                y_pred[i] = labels[np.argmax(counts)]\n",
        "            elif self.weights == 'distance':\n",
        "                # Use distance-based weighting\n",
        "                neighbor_labels = self.y_train[k_indices]\n",
        "                neighbor_distances = distances[k_indices]\n",
        "                weighted_votes = np.zeros(len(np.unique(self.y_train)))\n",
        "\n",
        "                for j, label in enumerate(np.unique(self.y_train)):\n",
        "                    indices = np.where(neighbor_labels == label)\n",
        "                    weighted_votes[j] = np.sum(1 / (neighbor_distances[indices] + 1e-5))\n",
        "\n",
        "                y_pred[i] = np.argmax(weighted_votes)\n",
        "\n",
        "        return y_pred\n"
      ],
      "metadata": {
        "id": "K9y5gQVSTunE"
      },
      "execution_count": null,
      "outputs": []
    },
    {
      "cell_type": "code",
      "source": [
        "# Create an instance of the KNN class with default settings (5 neighbors, 'uniform' weights)\n",
        "knn = KNN()\n",
        "\n",
        "# Define your training data and labels (example data)\n",
        "X_train = np.array([[1, 2], [2, 3], [3, 4], [4, 5]])\n",
        "y_train = np.array([0, 1, 0, 1])\n",
        "\n",
        "# Fit the KNN model with the training data and labels\n",
        "knn.fit(X_train, y_train)\n"
      ],
      "metadata": {
        "id": "M7maO1RWT5dt"
      },
      "execution_count": null,
      "outputs": []
    },
    {
      "cell_type": "code",
      "source": [
        "# Assuming you have already created the KNN instance and fitted it as shown in the previous example.\n",
        "\n",
        "# Define your testing data (example data)\n",
        "X_test = np.array([[1, 2], [3, 9]])\n",
        "\n",
        "# Make predictions using the KNN model\n",
        "y_pred = knn.predict(X_test)\n",
        "\n",
        "# Calculate accuracy using some ground truth labels (example labels)\n",
        "y_true = np.array([0, 1])\n",
        "\n",
        "# Calculate accuracy\n",
        "accuracy = np.mean(y_pred == y_true)\n",
        "\n",
        "print(f\"Predicted Labels: {y_pred}\")\n",
        "print(f\"Accuracy = {accuracy}\")\n"
      ],
      "metadata": {
        "colab": {
          "base_uri": "https://localhost:8080/"
        },
        "id": "sYl69dW9T9Ul",
        "outputId": "e2e0d6c3-11e8-4a24-a48b-dc182802a447"
      },
      "execution_count": null,
      "outputs": [
        {
          "output_type": "stream",
          "name": "stdout",
          "text": [
            "Predicted Labels: [0. 0.]\n",
            "Accuracy = 0.5\n"
          ]
        }
      ]
    },
    {
      "cell_type": "code",
      "source": [
        "from itertools import product\n",
        "from sklearn.metrics import accuracy_score\n",
        "import numpy as np\n",
        "\n",
        "# Sample data (replace with your data)\n",
        "X_train = np.array([[1, 2], [2, 3], [3, 4], [4, 5]])\n",
        "y_train = np.array([0, 1, 0, 1])\n",
        "X_test = np.array([[2, 2], [3, 3]])\n",
        "y_true = np.array([0, 1])\n",
        "\n",
        "# Define a range of hyperparameters to search\n",
        "param_grid = {\n",
        "    'n_neighbors': [3, 5, 7],\n",
        "    'weights': ['uniform', 'distance']\n",
        "}\n",
        "\n",
        "best_accuracy = 0\n",
        "best_params = {}\n",
        "\n",
        "# Iterate through all hyperparameter combinations\n",
        "for params in product(*param_grid.values()):\n",
        "    hyperparameters = dict(zip(param_grid.keys(), params))\n",
        "\n",
        "    # Create and train a KNN model with the current hyperparameters\n",
        "    knn = KNN(**hyperparameters)\n",
        "    knn.fit(X_train, y_train)\n",
        "\n",
        "    # Make predictions on the test set\n",
        "    y_pred = knn.predict(X_test)\n",
        "\n",
        "    # Calculate accuracy\n",
        "    accuracy = accuracy_score(y_true, y_pred)\n",
        "\n",
        "    # Check if this combination of hyperparameters gives a better accuracy\n",
        "    if accuracy > best_accuracy:\n",
        "        best_accuracy = accuracy\n",
        "        best_params = hyperparameters\n",
        "\n",
        "print(f\"Best Hyperparameters: {best_params}\")\n",
        "print(f\"Best Accuracy: {best_accuracy}\")\n"
      ],
      "metadata": {
        "colab": {
          "base_uri": "https://localhost:8080/"
        },
        "id": "eiRRVySNUkMr",
        "outputId": "a0e78c02-764a-40c6-a7af-7cfd6e5eed09"
      },
      "execution_count": null,
      "outputs": [
        {
          "output_type": "stream",
          "name": "stdout",
          "text": [
            "Best Hyperparameters: {'n_neighbors': 3, 'weights': 'uniform'}\n",
            "Best Accuracy: 0.5\n"
          ]
        }
      ]
    },
    {
      "cell_type": "code",
      "source": [
        "from sklearn.datasets import load_iris\n",
        "from sklearn.model_selection import train_test_split\n",
        "from sklearn.metrics import accuracy_score\n",
        "from itertools import product\n",
        "\n",
        "# Load the Iris dataset\n",
        "iris = load_iris()\n",
        "X = iris.data\n",
        "y = iris.target\n",
        "\n",
        "# Use train_test_split to split the data\n",
        "X_train, X_test, y_train, y_test = train_test_split(X, y, test_size=0.2, random_state=42)\n",
        "\n",
        "# Define a range of hyperparameters to search\n",
        "param_grid = {\n",
        "    'n_neighbors': [3, 5, 7],\n",
        "    'weights': ['uniform', 'distance']\n",
        "}\n",
        "\n",
        "best_accuracy = 0\n",
        "best_params = {}\n",
        "\n",
        "# Iterate through all hyperparameter combinations\n",
        "for params in product(*param_grid.values()):\n",
        "    hyperparameters = dict(zip(param_grid.keys(), params))\n",
        "\n",
        "    # Create and train a KNN model with the current hyperparameters\n",
        "    knn = KNN(**hyperparameters)\n",
        "    knn.fit(X_train, y_train)\n",
        "\n",
        "    # Make predictions on the test set\n",
        "    y_pred = knn.predict(X_test)\n",
        "\n",
        "    # Calculate accuracy\n",
        "    accuracy = accuracy_score(y_test, y_pred)\n",
        "\n",
        "    # Check if this combination of hyperparameters gives a better accuracy\n",
        "    if accuracy > best_accuracy:\n",
        "        best_accuracy = accuracy\n",
        "        best_params = hyperparameters\n",
        "\n",
        "print(f\"Best Hyperparameters: {best_params}\")\n",
        "print(f\"Best Accuracy: {best_accuracy}\")\n"
      ],
      "metadata": {
        "colab": {
          "base_uri": "https://localhost:8080/"
        },
        "id": "Hp5xMsNwUy8T",
        "outputId": "70afd717-f3eb-45a2-cf69-887e5eedef45"
      },
      "execution_count": null,
      "outputs": [
        {
          "output_type": "stream",
          "name": "stdout",
          "text": [
            "Best Hyperparameters: {'n_neighbors': 3, 'weights': 'uniform'}\n",
            "Best Accuracy: 1.0\n"
          ]
        }
      ]
    }
  ]
}